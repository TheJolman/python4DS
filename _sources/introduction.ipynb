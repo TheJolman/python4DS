{
 "cells": [
  {
   "cell_type": "markdown",
   "id": "95f0a171",
   "metadata": {},
   "source": [
    "(introduction)=\n",
    "# Getting Started with Python\n",
    "\n",
    "Data science is an exciting discipline that allows you to turn raw data into understanding, insight, and knowledge. The goal of “Python for Data Science” is to help you learn the most important tools and workflows in Python that will allow you to do data science. After reading this book, you’ll have the tools to tackle a wide variety of data science challenges.\n",
    "\n",
    "## What you will learn\n",
    "\n",
    "Data science is a huge field, and there's no way you can master it all by reading a single book. The goal of this book is to give you a solid foundation in the most important tools, and enough knowledge to find the resources to learn more when necessary. Our model of the tools needed in a typical data science project looks something like this:"
   ]
  },
  {
   "cell_type": "code",
   "execution_count": null,
   "id": "51a55374",
   "metadata": {
    "tags": [
     "remove-cell"
    ]
   },
   "outputs": [],
   "source": [
    "import matplotlib_inline.backend_inline\n",
    "\n",
    "matplotlib_inline.backend_inline.set_matplotlib_formats(\"svg\")"
   ]
  },
  {
   "cell_type": "code",
   "execution_count": null,
   "id": "209ef434",
   "metadata": {
    "tags": [
     "remove-input"
    ]
   },
   "outputs": [],
   "source": [
    "# remove-input\n",
    "import graphviz\n",
    "import string\n",
    "\n",
    "dot = graphviz.Digraph(comment=\"Data science workflow\")\n",
    "dot.attr(compound=\"true\")\n",
    "dot.edge(\"Import\", \"Tidy\")\n",
    "\n",
    "with dot.subgraph(name=\"cluster_0\") as c:\n",
    "    c.attr(style=\"filled\", color=\"lightgrey\")\n",
    "    c.node_attr.update(style=\"filled\", color=\"white\")\n",
    "    c.edges(\n",
    "        [(\"Visualise\", \"Analyse\"), (\"Analyse\", \"Transform\"), (\"Transform\", \"Visualise\")]\n",
    "    )\n",
    "    c.attr(label=\"Explore\")\n",
    "\n",
    "dot.edge(\"Tidy\", \"Analyse\", lhead=\"cluster_0\")\n",
    "\n",
    "dot.edge(\"Analyse\", \"Communicate\", ltail=\"cluster_0\")\n",
    "\n",
    "dot"
   ]
  },
  {
   "cell_type": "markdown",
   "id": "e96aa125",
   "metadata": {},
   "source": [
    "First you must **import** your data into Python. This typically means that you take data stored in a file, database, or web application programming interface (API), and load it into a 'data frame' in Python. If you can't get your data into Python, you can't do data science on it!\n",
    "\n",
    "Once you've imported your data, it is a good idea to **tidy** it. Tidying your data means storing it in a consistent form that matches the semantics of the dataset with the way it is stored. In brief, when your data is tidy, each column is a variable, and each row is an observation. Tidy data is important because the consistent structure lets you focus your efforts on answering questions about the data, not fighting to get the data into the right form for different functions. (The principles of tidy data apply most readily to numerical data in tabular form.)\n",
    "\n",
    "Once you have tidy data, a common next step is to **transform** it. Transformation includes narrowing in on observations of interest (like all people in one city, or all data from the last year), creating new variables that are functions of existing variables (like computing speed from distance and time), and calculating a set of summary statistics (like counts or means).\n",
    "\n",
    "Once you have tidy data with the variables you need, there are two main engines of knowledge generation: visualisation and analysis. These have complementary strengths and weaknesses so any real analysis will iterate between them many times.\n",
    "\n",
    "**Visualisation** is a fundamentally human activity. A good visualisation will show you things that you did not expect, or raise new questions about the data. A good visualisation might also hint that you're asking the wrong question, or that you need to collect different data. Visualisations can surprise you and they don't scale particularly well because they require a human to interpret them.\n",
    "\n",
    "The last step of data science is **communication**, an absolutely critical part of any data analysis project.\n",
    "It doesn't matter how well your models and visualisation have led you to understand the data unless you can also communicate your results to others.\n",
    "\n",
    "Surrounding all these tools is **programming**. Programming is a cross-cutting tool that you use in nearly every part of a data science project. You don't need to be an expert programmer to be a successful data scientist, but learning more about programming pays off, because becoming a better programmer allows you to automate common tasks, and solve new problems with greater ease.\n",
    "\n",
    "You'll use these tools in every data science project, but for most projects they're not enough. There's a rough 80-20 rule at play; you can tackle about 80% of every project using the tools that you'll learn in this book, but you'll need other tools to tackle the remaining 20%. Throughout this book, we'll point you to resources where you can learn more.\n",
    "\n",
    "\n",
    "\n"
   ]
  },
  {
   "cell_type": "markdown",
   "id": "aabdbc7d",
   "metadata": {},
   "source": [
    "## How this book is organised\n",
    "\n",
    "The previous description of the tools of data science is organised roughly according to the order in which you use them in an analysis (although of course you'll iterate through them multiple times). In our experience, however, this is not the best way to learn them because starting with data ingest and tidying is sub-optimal because 80% of the time it's routine and boring, and the other 20% of the time it's weird and frustrating.\n",
    "That's a bad place to start learning a new subject! Instead, we'll start with visualisation and transformation of data that's already been imported and tidied. That way, when you ingest and tidy your own data, your motivation will stay high because you know the pain is worth the effort.\n",
    "\n",
    "Within each chapter, we try and adhere to a similar pattern: start with some motivating examples so you can see the bigger picture, and then dive into the details. Each section of the book is paired with exercises to help you practice what you've learned. Although it can be tempting to skip the exercises, there's no better way to learn than practicing on real problems.\n",
    "\n",
    "## What you won't learn\n",
    "\n",
    "There are a number of important topics that this book doesn't cover. We believe it's important to stay ruthlessly focused on the essentials so you can get up and running as quickly as possible. That means this book can't cover every important topic.\n",
    "\n",
    "### Advanced Analysis and Modelling\n",
    "\n",
    "Although we'll cover the basics of analysis, we will only scratch the surface and this topic is highly domain dependent. \n",
    "\n",
    "### Big data\n",
    "\n",
    "This book proudly focuses on small, \"in-memory\" (more or less this means you can open them on your laptop) datasets. This is the right place to start because you can't tackle big data unless you have experience with small data. The tools you learn in this book will easily handle hundreds of megabytes of data, and with a little care, you can typically use them to work with 1-2 Gb (gigabytes) of data. If you're routinely working with larger data (10-100 Gb, say), you should learn more about databases and tools such as [dask](https://dask.org/).\n",
    "\n",
    "If your data is bigger than this, carefully consider whether your big data problem is actually a small data problem in disguise. While the complete data set might be big, often the data needed to answer a specific question is small. You might be able to find a subset, subsample, or summary that fits in memory and still allows you to answer the question that you're interested in. The challenge here is finding the right small data, which often requires a lot of iteration.\n",
    "\n",
    "Another possibility is that your big data problem is actually a large number of small data problems in disguise. Each individual problem might fit in memory, but you have millions of them. For example, you might want to fit a model to each person in your dataset. This would be trivial if you had just 10 or 100 people, but instead you have a million. Fortunately, each problem is independent of the others (a setup that is sometimes called embarrassingly parallel), so you just need a system (like [Hadoop](https://hadoop.apache.org/) or [Spark](https://spark.apache.org/)) that allows you to send different datasets to different computers for processing. Once you've figured out how to answer your question for a single subset using the tools described in this book, you can learn new tools like **pyspark** to solve it for the full dataset.\n",
    "\n",
    "### R, Julia, and friends\n",
    "\n",
    "In this book, you won't learn anything about R, Julia, or any other programming language useful for data science. This isn't because we think these tools are bad. They're not! And in practice, most data science teams use a mix of languages, often at least R and Python. However, you may find it easier to master one tool at a time.\n",
    "\n",
    "This book uses Python, which is usually ranked as the first or second most popular programming language in the world and, just as importantly, it’s also one of the easiest to learn. It’s a general purpose language, which means it can perform a wide range of tasks. This combination of features is why people say Python has a low floor and a high ceiling. It’s also very versatile; the joke goes that Python is the 2nd best language at everything, and there’s some truth to that (although Python is 1st best at some tasks, like machine learning). But a language that covers such a lot of ground is also very useful; and Python is widely used across industry, academia, and the public sector, and is often taught in schools too.\n",
    "\n",
    "We think Python is a great place to start your data science journey because it is the most popular tool for data science and programming more generally, with a large community behind it.\n",
    "\n",
    "## Prerequisites\n",
    "\n",
    "We've made a few assumptions about what you already know in order to get the most out of this book. You should be generally numerically literate, and it's helpful if you have some programming experience already.\n",
    "\n",
    "There are three things you need to run the code in this book: an installation of Python (the programming language), an installation of Visual Studio Code (which runs your Python code), and some key Python 'packages', add-ons to the language that provide extra functionality.\n",
    "\n",
    "### Installing the Python programming language\n",
    "\n",
    "To download and install the Python language, we'll use the Anaconda distribution of Python, which is available on all major operating systems. To install it, follow the instructions below or watch this video on *[how to install Python using the Anaconda distribution of Python](https://www.youtube.com/watch?v=ZWQwGR5ppnk)*.\n",
    "\n",
    "<iframe width=\"700\" height=\"394\" src=\"https://www.youtube.com/embed/ZWQwGR5ppnk\" title=\"YouTube video player\" frameborder=\"0\" allow=\"accelerometer; autoplay; clipboard-write; encrypted-media; gyroscope; picture-in-picture\" allowfullscreen></iframe>\n",
    "\n",
    "Download the individual edition of the [Anaconda distribution](https://www.anaconda.com/) of Python for your operating system and install it (on Anaconda's website, this is currently found under Products -> Individual Edition). This will provide you with a Python installation and a host of the most useful libraries. If you get stuck, there are more detailed instructions available for installing the Anaconda distribution of Python [on Windows](https://docs.anaconda.com/anaconda/install/windows/), [on Mac](https://docs.anaconda.com/anaconda/install/mac-os/), and [on Linux](https://docs.anaconda.com/anaconda/install/linux/).\n",
    "\n",
    "You can confirm that you've set up Anaconda correctly by following the [verify installation instructions](https://docs.anaconda.com/anaconda/install/verify-install/) on the Anaconda website. If you're using Windows, you can check if Anaconda has installed properly by opening the 'Anaconda prompt' (a special text-based way to issue commands to your computer) and type `where python`. You should see a path rendered as text in the prompt that includes \"Anaconda3\", for example something like `C:\\Users\\<your-username>\\Anaconda3\\...`. On Mac and Linux you may need to run `conda init` on your command line to activate your Anaconda Python environment (Mac and Linux usually come with, typically, old versions of Python pre-installed). You can check you've got the right Python with `which python`, which should result in a message back saying `/Users/<your-username>/opt/anaconda3/bin/python`. \n",
    "\n",
    "This book was compiled with the following version of Python:"
   ]
  },
  {
   "cell_type": "code",
   "execution_count": null,
   "id": "26faf349",
   "metadata": {
    "tags": [
     "remove-input"
    ]
   },
   "outputs": [],
   "source": [
    "# remove-input\n",
    "import sys\n",
    "\n",
    "print(\"Compiled with Python version:\", sys.version)"
   ]
  },
  {
   "cell_type": "markdown",
   "id": "6e8ffb03",
   "metadata": {},
   "source": [
    "### Installing Visual Studio Code to run Python\n",
    "\n",
    "[Visual Studio Code](https://code.visualstudio.com/) will allow you to run code through Python once you have Python installed on your system. Visual Studio Code is an *integrated development environment*. An integrated development environment is a software application that provides a few tools to make coding easier. The most important of these is a way to write the code itself! IDEs are not the only way to programme, but they are perhaps the most useful. Note that the language and the place you write the language (the IDE) are separate things: the language is a way of processing your instructions, the IDE is where you write those instructions.\n",
    "\n",
    "Here are some of the useful features an IDE might have:\n",
    "\n",
    "- a way to run your code interactively (line-by-line) or all at once\n",
    "\n",
    "- a way to debug (look for errors) in your code\n",
    "\n",
    "- a quick way to access helpful information about commonly used software packages\n",
    "\n",
    "- automatic code formatting, so that your code follows best practice guidelines\n",
    "\n",
    "- auto-completion of your code\n",
    "\n",
    "- automatic code checking for basic errors\n",
    "\n",
    "- colouring your brackets in pairs so you can keep track of the logical order of execution of your code!\n",
    "\n",
    "[Visual Studio Code](https://code.visualstudio.com/) is a free and open source IDE from Microsoft that is available on all major operating systems. Just like Python itself, Visual Studio can be extended with packages, and it is those packages, called extensions in this case, that make it so useful. As well as Python, Visual Studio Code supports a ton of other languages.\n",
    "\n",
    "Download and install Visual Studio Code. If you need some help, the video below will walk you through downloading and installing Visual Studio Code, and then using it to run Python code in both scripts and in notebooks. We'll go through these instructions in detail in the rest of this chapter. As an alternative to the instructions or video below, Microsoft also has a [very short tutorial](https://code.visualstudio.com/docs/python/python-tutorial) on setting it up (ignore the bits about debugging and installing packages for now).\n",
    "\n",
    "<iframe width=\"700\" height=\"394\" src=\"https://www.youtube.com/embed/1kKTYsQdaPw\" title=\"YouTube video player\" frameborder=\"0\" allow=\"accelerometer; autoplay; clipboard-write; encrypted-media; gyroscope; picture-in-picture\" allowfullscreen></iframe>\n",
    "\n",
    "*[How to install Visual Studio Code and use it to run Python code](https://www.youtube.com/watch?v=1kKTYsQdaPw)*\n",
    "\n",
    "Once you have Visual Studio Code installed and opened, navigate to the 'extensions' tab on the left hand side vertical bar of icons (it's the one that looks like 4 squares). You'll need to install the [Python extension for VS Code](https://marketplace.visualstudio.com/items?itemName=ms-python.python), which you can search for by using the text box within VS Code's extensions panel.\n",
    "\n",
    "![A typical user view in Visual Studio Code](https://github.com/aeturrell/coding-for-economists/blob/main/img/vscode_layout.png?raw=true)\n",
    "\n",
    "The figure above shows the typical layout of Visual Studio Code. The long vertical panel on the far left-hand side changes what is seen in panels 1 and 2; it currently has the file explorer selected. Let's run through the numbered parts of the figure.\n",
    "\n",
    "1. When the explorer option is selected from the icons to the left of 1 and 2, the contents of the folder that's currently open are shown in 1.\n",
    "2. This is an outline of the key parts of the file that is open in 3.\n",
    "3. This is just a fancy text editor. In the figure above, it's showing a Python script (a file that contains code and has a name that ends in `.py`). Selecting code and pressing <kbd>Shift</kbd> + <kbd>Enter</kbd> ('Enter' is labelled as 'Return' on some keyboards) will execute that code in 5.\n",
    "4. This is the command line, a place where you can type in commands that your computer will then execute. If you want to try a command, type `date` (Mac/Linux) or `date /t` (Windows).\n",
    "5. This is the interactive Python window, which is where code and code outputs appear after you select and execute them from a script (see 3). It shows the code that you executed and any outputs from that execution—in the screenshot shown, the code has created a plot. The name and version of Python you're using appear at the top of the interactive window.\n",
    "\n",
    "Note that there is lots of useful information arrayed right at the bottom of the window in the blue bar, including the version of Python currently being used by VS Code."
   ]
  },
  {
   "cell_type": "markdown",
   "id": "d9c1931d",
   "metadata": {},
   "source": [
    "### Packages\n",
    "\n",
    "You'll also need to install some Python packages. A Python **package** is a collection of functions, data, and documentation that extends the capabilities of an installed version of Python. Using packages is key to most data science.\n",
    "\n",
    "The Anaconda distribution actually comes with a host of the most useful packages for data science, including **pandas** for data manipulation and **matplotlib** for data visualisation.\n",
    "\n",
    "You can install additional packages from the Visual Studio Code command line (labelled as number 4 in the figure above). To install an extra package, run `pip install **packagename**` in the command line. You could try installing the visualisation package **plotnine** this way, by running `pip install plotnine`.\n",
    "\n",
    "If you have problems installing, make sure that you are connected to the internet, and that [PyPI](https://pypi.org/) (the Python package index) isn't blocked by your firewall or proxy."
   ]
  },
  {
   "cell_type": "markdown",
   "id": "9a885521",
   "metadata": {},
   "source": [
    "## Running Python code\n",
    "\n",
    "Now you will create and run your first code. If you get stuck, there's a more in-depth tutorial over at the [VS Code documentation](https://code.visualstudio.com/docs/python/python-tutorial).\n",
    "\n",
    "Create a new folder for your work (perhaps named 'python4DS', no white space), open that folder with Visual Studio Code and create a new file, naming it `hello_world.py`. The file extension, `.py`, is very important as it implicitly tells Visual Studio Code that this is a Python script. In the Visual Studio Code editor, add a single line to the file:\n",
    "\n",
    "```python\n",
    "print('Hello World!')\n",
    "```\n",
    "\n",
    "Save the file.\n",
    "\n",
    "If you named this file with the extension `.py` then VS Code will recognise that it is Python code and you should see the name and version of Python pop up in the blue bar at the bottom of your VS Code window. Make sure that the version of Python displayed here is the Anaconda version that you just installed rather than one that comes built-in with your operating system (this is particularly an issue on Mac). If you have a fresh install of Anaconda's distribution of Python, you'll probably see something like `Python 3.9 64-bit ('base': conda)`. To change which Python version your code uses, click on the version shown in the blue bar and select the version you want. If you've just changed Python version, it can be a good idea to restart VS Code so that all the versions of Python on your system are picked up by it.\n",
    "\n",
    "When you press save, you may get messages about installing extra packages or making Pylance your default language server; just go with VS Code's suggestions here, except the one about the terminal and conda, which you can say no to.\n",
    "\n",
    "Alright, shall we actually run some code? Select/highlight the `print('Hello world!')` text you typed in the file and right-click to bring up some options including 'Run Selection/Line in Terminal' and `Run Selection/Line in Interactive Window'. Because VS Code is a richly featured IDE, there are lots of options for how to run the file. Let's try both of the main ways: via the interactive window and using the \"terminal\" (more on what that is later).\n",
    "\n",
    "The interactive window is a convenient and flexible way to run code that you have open in a script or that you type directly into the interactive window code box. The interactive window will 'remember' any variables that have been assigned (for examples, code statements like `x = 5`), whether they came from running some lines in your script or from you typing them in directly. Working with the interactive window will feel familiar to anyone who has used Stata, Matlab, or R, and is much more suited to the way economists tend to work because it doesn't require you to write the whole script, start to finish, ahead of time. Instead, you can jam, changing code as you go, (re-)running it line by line.\n",
    "\n",
    "To run the code in an interactive window, **right-click and select 'Run Selection/Line in Interactive Window'**. This should cause a new 'interactive' panel to appear within Visual Studio Code, and only the selected line will execute within it. At this point, you may see a message about Visual Studio Code's default behaviour when you press <kbd>Shift</kbd> + <kbd>Enter</kbd>; for this book, it's good to have <kbd>Shift</kbd> + <kbd>Enter</kbd> default to running a line in the interactive window. The box below has instructions for how to ensure this always happens.\n",
    "\n",
    "```{admonition} Make code run in the interactive window by default\n",
    ":class: dropdown\n",
    "\n",
    "Open up Visual Studio Code and go to settings (click on the cog in the bottom left-hand corner, then click settings).\n",
    "\n",
    "Type 'python send' into the search box. Depending on your configuration and Visual Studio Code version, you will either see 'Python › Data Science: Send Selection To Interactive Window' or 'Jupyter: Send Selection To Interactive Window'. Make sure that there is a tick in the box.\n",
    "\n",
    "This will ensure that when you hit shift+enter on code scripts, it will execute your code in Visual Studio's interactive window (starting a new window if necessary).\n",
    "```\n",
    "\n",
    "Let's make more use of the interactive window. At the bottom of it, there is a box that says 'Type code here and press shift-enter to run'. Go ahead and type `print('Hello World!')` directly in there to achieve the same effect as running the line from your script. Also, any variables you run in the interactive window (from your script or directly by entering them in the box) will persist.\n",
    "\n",
    "To see how variables persist, type `hello_string = 'Hello World!'` into the interactive window's code entry box and hit shift-enter. If you now type `hello_string` and hit shift+enter, you will see the contents of the variable you just created. You can also click the grid symbol at the top of the interactive window (between the stop symbol and the save file symbol); this is the variable explorer and will pop open a panel showing all of the variables you've created in this interactive session. You should see one called `hello_string` of type `str` with a value `Hello World!`.\n",
    "\n",
    "This shows the two ways of working with the interactive window--running (segments) from a script, or writing code directly in the entry box.\n",
    "\n",
    "```{admonition} Start interactive windows and terminals within your project directory\n",
    ":class: dropdown\n",
    "In Visual Studio Code, you can ensure that the interactive window starts in the root directory of your project by setting \"Jupyter: Notebook File Root\" to `${workspaceFolder}` in the Settings menu. For the integrated command line, change \"Terminal › Integrated: Cwd\" to `${workspaceFolder}` too.\n",
    "```\n",
    "\n",
    "To run code the other way, in the terminal, right-click and select 'Run Python file in terminal'. This will bring up a new panel (called a terminal) *within* Visual Studio Code that runs your entire script from top to bottom-and you should see 'Hello World!' pop up! Although we're trying out running code in the terminal, the typical economics workflow would be to work with the interactive window.\n",
    "\n",
    "```{admonition} Exercise\n",
    "Create a new script that, when run, prints \"Welcome to Python for Data Science\" and run it in an interactive window.\n",
    "```\n"
   ]
  },
  {
   "cell_type": "markdown",
   "id": "a920625f",
   "metadata": {},
   "source": [
    "## Getting help and learning more\n",
    "\n",
    "This book is not an island; there is no single resource that will allow you to master Python. As you start to apply the techniques described in this book to your own data you will soon find questions that we do not answer. This section describes a few tips on how to get help, and to help you keep learning.\n",
    "\n",
    "Some other resources for learning are:\n",
    "\n",
    "- [The Python Data Science Handbook](https://jakevdp.github.io/PythonDataScienceHandbook/)\n",
    "- [Real Python](https://realpython.com/), which has excellent short tutorials that cover Python more broadly (not just data science)\n",
    "- [freeCodeCamp's Python courses](https://www.freecodecamp.org/news/search?query=data%20science%20python), though take care to select one that's at the right level for you\n",
    "- [Coding for Economists](https://aeturrell.github.io/coding-for-economists), which has similar content to this book but is more in depth and aimed at analysts (particularly in economics)\n",
    "\n",
    "If you get stuck with a particular bit of code, start with Google. Typically adding “Python” to a query is enough to restrict it to relevant results. Google is particularly useful for error messages. If you get an error message and you have no idea what it means, try googling it! Chances are that someone else has been confused by it in the past, and there will be help somewhere on the web.\n",
    "\n",
    "If Google doesn’t help, try [stackoverflow](https://stackoverflow.com/). Start by spending a little time searching for an existing answer, including [Python] to restrict your search to questions and answers that use Python. If you don’t find anything useful, prepare a minimal reproducible example or \"reprex\". A good reprex makes it easier for other people to help you, and often you’ll figure out the problem yourself in the course of making it.\n",
    "\n",
    "There are three things you need to include to make your example reproducible: required packages, data, and code.\n",
    "\n",
    "Packages should be loaded at the top of the script, so it’s easy to see which ones the example needs. This is a good time to check that you’re using the latest version of each package; it’s possible you’ve discovered a bug that’s been fixed since you installed the package.\n",
    "\n",
    "You should also spend some time preparing yourself to solve problems before they occur. Investing a little time in learning Python each day will pay off handsomely in the long run.\n",
    "\n",
    "To keep up with the Python data science community more broadly, we recommend following the (#pydata) and (#python) hashtags on Twitter."
   ]
  },
  {
   "cell_type": "markdown",
   "id": "4f2457a2",
   "metadata": {},
   "source": [
    "## How to use this book\n",
    "\n",
    "As well as following this book using your own computer, you can run the code online through a few different options. The first is the easiest to get started with.\n",
    "\n",
    "1. [Google Colab notebooks](https://research.google.com/colaboratory/). You can launch most pages in this book interactively by using the 'Colab' button under the rocket symbol (:rocket:) at the top of the page. It will be in the form of a notebook (which mixes code and text) rather than a script (.py file) but the code you write is the same.\n",
    "2. [Pyolite Notebook](https://jupyterlite.readthedocs.io/en/latest/try/lab). This is a slimmed down version of a Python notebook that runs entirely in your web browser! It doesn't include all of Python's packages but there are enough of the most popular packages for data science to make it useful.\n",
    "3. [Gitpod Workspace](https://www.gitpod.io/). This is a remote, cloud-based version of Visual Studio Code with Python installed and will run Python scripts. Note that the free tier only covers 50 hours per month."
   ]
  },
  {
   "cell_type": "markdown",
   "id": "937d7b82",
   "metadata": {},
   "source": [
    "## Acknowledgements\n",
    "\n",
    "This book is a very close reproduction of the book [R for Data Science](https://r4ds.had.co.nz/) and was inspired by its efforts to make data science more accessible in an easy to digest book."
   ]
  }
 ],
 "metadata": {
  "interpreter": {
   "hash": "9d7534ecd9fbc7d385378f8400cf4d6cb9c6175408a574f1c99c5269f08771cc"
  },
  "jupytext": {
   "cell_metadata_filter": "-all",
   "encoding": "# -*- coding: utf-8 -*-",
   "formats": "md:myst",
   "main_language": "python"
  },
  "kernelspec": {
   "display_name": "Python 3 (ipykernel)",
   "language": "python",
   "name": "python3"
  },
  "language_info": {
   "codemirror_mode": {
    "name": "ipython",
    "version": 3
   },
   "file_extension": ".py",
   "mimetype": "text/x-python",
   "name": "python",
   "nbconvert_exporter": "python",
   "pygments_lexer": "ipython3",
   "version": "3.9.12"
  },
  "toc-showtags": true
 },
 "nbformat": 4,
 "nbformat_minor": 5
}
