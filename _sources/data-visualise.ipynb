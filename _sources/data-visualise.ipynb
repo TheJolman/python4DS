{
 "cells": [
  {
   "cell_type": "markdown",
   "id": "95f0a171",
   "metadata": {},
   "source": [
    "(data-visualise)=\n",
    "# Data Visualisation\n",
    "\n",
    "## Introduction\n",
    "\n",
    "> \"The simple graph has brought more information to the data analyst's mind than any other device.\" --- John Tukey\n",
    "\n",
    "This chapter will teach you how to visualise your data using the **seaborn** package.\n",
    "\n",
    "There are a plethora of other options (and packages) for data visualisation using code. There are broadly two categories of approach to using code to create data visualisations: imperative, where you build what you want, and declarative, where you say what you want. Choosing which to use involves a trade-off: imperative libraries offer you flexibility but at the cost of some verbosity; declarative libraries offer you a quick way to plot your data, but only if it’s in the right format to begin with, and customisation may be more difficult.\n",
    "\n",
    "**seaborn** is a declarative visualisation package, and these can be easier to get started with. But it's built on top of an imperative package, the incredibly powerful **matplotlib**, so you can always dig further and tweak details if you need to. However, in this chapter, we'll focus on using **seaborn** declaratively."
   ]
  },
  {
   "cell_type": "code",
   "execution_count": null,
   "id": "51a55374",
   "metadata": {
    "tags": [
     "remove-cell"
    ]
   },
   "outputs": [],
   "source": [
    "# remove cell\n",
    "import matplotlib_inline.backend_inline\n",
    "import matplotlib.pyplot as plt\n",
    "\n",
    "# Plot settings\n",
    "plt.style.use(\"https://github.com/aeturrell/python4DS/raw/main/plot_style.txt\")\n",
    "matplotlib_inline.backend_inline.set_matplotlib_formats(\"svg\")"
   ]
  },
  {
   "cell_type": "markdown",
   "id": "17575f3a",
   "metadata": {},
   "source": [
    "### Prerequisites\n",
    "\n",
    "You will need to install the **seaborn** package for this chapter (`pip install seaborn`). Once you've done this, you'll need to import the **seaborn** library into your session using"
   ]
  },
  {
   "cell_type": "code",
   "execution_count": null,
   "id": "ae4a818a",
   "metadata": {},
   "outputs": [],
   "source": [
    "import seaborn.objects as so"
   ]
  },
  {
   "cell_type": "markdown",
   "id": "e0ad70c8",
   "metadata": {},
   "source": [
    "The second import brings in the plotting part of **seaborn**.\n",
    "\n",
    "## First Steps\n",
    "\n",
    "Let's use our first graph to answer a question: Do cars with big engines use more fuel than cars with small engines? You probably already have an answer, but try to make your answer precise. What does the relationship between engine size and fuel efficiency look like? Is it positive? Negative? Linear? Non-linear?\n",
    "\n",
    "### The `mpg` data frame\n",
    "\n",
    "You can test your answer with the `mpg` data frame found in **seaborn** and obtained from the internet using the **pandas** package.\n",
    "\n",
    "A data frame is a rectangular collection of variables (in the columns) and observations (in the rows). `mpg` contains observations collected by the US Environmental Protection Agency on 38 car models."
   ]
  },
  {
   "cell_type": "code",
   "execution_count": null,
   "id": "0cf986aa",
   "metadata": {},
   "outputs": [],
   "source": [
    "import pandas as pd\n",
    "\n",
    "mpg = pd.read_csv(\n",
    "    \"https://vincentarelbundock.github.io/Rdatasets/csv/ggplot2/mpg.csv\", index_col=0\n",
    ")\n",
    "mpg"
   ]
  },
  {
   "cell_type": "markdown",
   "id": "cc310b4f",
   "metadata": {},
   "source": [
    "Among the variables in `mpg` are:\n",
    "\n",
    "1.  `displ`, a car's engine size, in litres.\n",
    "\n",
    "2.  `hwy`, a car's fuel efficiency on the highway, in miles per gallon (mpg). A car with a low fuel efficiency consumes more fuel than a car with a high fuel efficiency when they travel the same distance."
   ]
  },
  {
   "cell_type": "markdown",
   "id": "339966d7",
   "metadata": {},
   "source": [
    "### Creating a Plot\n",
    "\n",
    "To plot `mpg`, run this code to put `displ` on the x-axis and `hwy` on the y-axis:"
   ]
  },
  {
   "cell_type": "code",
   "execution_count": null,
   "id": "1b12b0ca",
   "metadata": {},
   "outputs": [],
   "source": [
    "so.Plot(mpg, x=\"displ\", y=\"hwy\").add(so.Dot())"
   ]
  },
  {
   "cell_type": "markdown",
   "id": "7272e621",
   "metadata": {},
   "source": [
    "The plot shows a negative relationship between engine size (`displacement`) and fuel efficiency (`mpg`). In other words, cars with smaller engine sizes have higher fuel efficiency and, in general, as engine size increases, fuel efficiency decreases. Does this confirm or refute your hypothesis about fuel efficiency and engine size?\n",
    "\n",
    "With **seaborn**, you begin a plot with the function `so.Plot()`. **seaborn** creates a coordinate system that you can add layers to. The first argument of `so.Plot()` is the dataset to use in the graph. So `so.Plot(mpg)` creates an empty graph, but it's not very interesting so I'm not going to show it here.\n",
    "\n",
    "You complete your graph by adding one or more layers to the plot. The function `.add(so.Dot())` adds a layer of points to your plot, creating a scatterplot. You can choose between telling `so.Plot` what the x and y axis variables are or passing it directly to `.add`.\n",
    "\n",
    "**seaborn** comes with many functions that each add a different type of layer to a plot. You'll learn a whole bunch of them throughout this chapter."
   ]
  },
  {
   "cell_type": "markdown",
   "id": "c5e295b2",
   "metadata": {},
   "source": [
    "### A graphing template\n",
    "\n",
    "Let's turn this code into a reusable template for making graphs with **seaborn**. To make a graph, replace the bracketed sections in the code below with a dataset, a geom function, or a collection of mappings.\n",
    "\n",
    "```python\n",
    "so.Plot(<data>, x=<X VARIABLE>, y=<Y VARIABLE>).add(so.<PLOT STYLE>)\n",
    "```\n",
    "\n",
    "The rest of this chapter will show you how to complete and extend this template to make different types of graphs."
   ]
  },
  {
   "cell_type": "markdown",
   "id": "351b59e2",
   "metadata": {},
   "source": [
    "### Exercises\n",
    "\n",
    "1.  Run `so.Plot(mpg)`.\n",
    "    What do you see?\n",
    "\n",
    "2.  How many rows are in `mpg` (the data frame)?\n",
    "    How many columns?\n",
    "\n",
    "3.  Make a scatterplot of `mpg` vs `cylinders`.\n",
    "\n",
    "4.  What happens if you make a scatterplot of `class` vs `drv`? Why is the plot not useful?"
   ]
  },
  {
   "cell_type": "markdown",
   "id": "e5867e3f",
   "metadata": {},
   "source": [
    "## Aesthetic mappings\n",
    "\n",
    "> \"The greatest value of a picture is when it forces us to notice what we never expected to see.\" --- John Tukey\n",
    "\n",
    "In the plot below, one group of points (highlighted in red) seems to fall outside of the linear trend. These cars have a higher mileage than you might expect. How can you explain these cars?\n"
   ]
  },
  {
   "cell_type": "code",
   "execution_count": null,
   "id": "11877e4c",
   "metadata": {
    "tags": [
     "remove-input"
    ]
   },
   "outputs": [],
   "source": [
    "# remove input\n",
    "so.Plot(mpg, x=\"displ\", y=\"hwy\").add(so.Dot()).add(\n",
    "    so.Dot(color=\"red\", pointsize=5), data=mpg.query(\"displ > 5 and hwy > 20\")\n",
    ")"
   ]
  },
  {
   "cell_type": "markdown",
   "id": "801606f0",
   "metadata": {},
   "source": [
    "Let's hypothesize that the cars are hybrids. One way to test this hypothesis is to look at the `class` value for each car.\n",
    "The `class` variable of the `mpg` dataset classifies cars into groups such as compact, midsize, and SUV. If the outlying points are hybrids, they should be classified as compact cars or, perhaps, subcompact cars (keep in mind that this data was collected before hybrid trucks and SUVs became popular).\n",
    "\n",
    "You can add a third variable, like `class`, to a two dimensional scatterplot by mapping it to another dimension of the plot. These could be things like the size, the shape, or the colour of your points.\n",
    "\n",
    "For example, you can map the colours of your points to the `class` variable to reveal the class of each car."
   ]
  },
  {
   "cell_type": "code",
   "execution_count": null,
   "id": "d3bd2335",
   "metadata": {},
   "outputs": [],
   "source": [
    "so.Plot(mpg, x=\"displ\", y=\"hwy\", color=\"class\").add(so.Dot())"
   ]
  },
  {
   "cell_type": "markdown",
   "id": "d4db1154",
   "metadata": {},
   "source": [
    "To map another dimension in the plot to a variable, assign that dimension to the variable, for example `color=\"class\"` within `so.Plot` or within `.add`. **seaborn** will automatically assign a unique level of the dimension (here a unique colour) to each unique value of the variable, a process known as scaling. **seaborn** will also add a legend that explains which levels correspond to which values."
   ]
  },
  {
   "cell_type": "markdown",
   "id": "9c4b3bb7",
   "metadata": {},
   "source": [
    "The colours reveal that many of the unusual points (with engine size greater than 5 litres and highway fuel efficiency greater than 20 miles per gallon) are two-seater cars. These cars don't seem like hybrids, and are, in fact, sports cars! Sports cars have large engines like SUVs and pickup trucks, but small bodies like midsize and compact cars, which improves their gas mileage. In hindsight, these cars were unlikely to be hybrids since they have large engines.\n",
    "\n",
    "\n",
    "In the above example, we mapped `class` to colour, but we could have mapped `class` to the size of points in the same way. In this case, the exact size of each point would reveal its class affiliation. Big warning here though: mapping an unordered variable (`class`) to an ordered variable (`size`) is generally not a good idea."
   ]
  },
  {
   "cell_type": "code",
   "execution_count": null,
   "id": "8ae59e98",
   "metadata": {},
   "outputs": [],
   "source": [
    "so.Plot(mpg, x=\"displ\", y=\"hwy\", pointsize=\"class\").add(so.Dot())"
   ]
  },
  {
   "cell_type": "markdown",
   "id": "c1c17016",
   "metadata": {},
   "source": [
    "Similarly, we could have mapped `class` to *alpha* level, which controls the transparency of the points, or to the *marker* variable, which controls the shape of the points."
   ]
  },
  {
   "cell_type": "code",
   "execution_count": null,
   "id": "dcfa90ee",
   "metadata": {},
   "outputs": [],
   "source": [
    "so.Plot(mpg, x=\"displ\", y=\"hwy\", alpha=\"class\").add(so.Dot())"
   ]
  },
  {
   "cell_type": "code",
   "execution_count": null,
   "id": "824214a5",
   "metadata": {},
   "outputs": [],
   "source": [
    "so.Plot(mpg, x=\"displ\", y=\"hwy\", marker=\"class\").add(so.Dot())"
   ]
  },
  {
   "cell_type": "markdown",
   "id": "a637a55b",
   "metadata": {},
   "source": [
    "Once you map variables to dimensions, **seaborn** takes care of the rest. It selects a reasonable scale to use with the dimension, and it constructs a legend that explains the mapping between levels and values.\n",
    "\n",
    "You can also *set* a dimension property in your plot directly. For example, we can make all of the points in our plot purple:"
   ]
  },
  {
   "cell_type": "code",
   "execution_count": null,
   "id": "b3d9fb32",
   "metadata": {},
   "outputs": [],
   "source": [
    "so.Plot(mpg, x=\"displ\", y=\"hwy\").add(so.Dot(color=\"purple\"))"
   ]
  },
  {
   "cell_type": "markdown",
   "id": "af32bb82",
   "metadata": {},
   "source": [
    "Here, the colour doesn't convey information about a variable, but only changes the appearance of the plot.\n",
    "To set a dimension manually like this, put it within the specific layer it applies to (eg `.add(so.Scatter(color=\"purple\"))`) rather than in the part that maps variables to dimensions (eg not in `so.Plot(mpg, x=\"displ\", y=\"hwy\")`).\n",
    "\n",
    "When assigning values to dimensions, you'll need to pick values that makes sense, for example:\n",
    "\n",
    "-   The name of a colour as a string, eg `color=\"purple\"`\n",
    "-   The size of a point in mm\n",
    "-   The shape of a marker as a string, eg `marker=\"*\"` for a star"
   ]
  },
  {
   "cell_type": "code",
   "execution_count": null,
   "id": "cc31c7f4",
   "metadata": {
    "tags": [
     "remove-cell"
    ]
   },
   "outputs": [],
   "source": [
    "# remove cell\n",
    "from matplotlib.lines import Line2D\n",
    "\n",
    "\n",
    "text_style = dict(\n",
    "    horizontalalignment=\"right\",\n",
    "    verticalalignment=\"center\",\n",
    "    fontsize=12,\n",
    "    fontfamily=\"monospace\",\n",
    ")\n",
    "marker_style = dict(\n",
    "    linestyle=\":\",\n",
    "    color=\"0.8\",\n",
    "    markersize=10,\n",
    "    markerfacecolor=\"tab:blue\",\n",
    "    markeredgecolor=\"tab:blue\",\n",
    ")\n",
    "\n",
    "\n",
    "def format_axes(ax):\n",
    "    ax.margins(0.2)\n",
    "    ax.set_axis_off()\n",
    "    ax.invert_yaxis()\n",
    "\n",
    "\n",
    "def split_list(a_list):\n",
    "    i_half = len(a_list) // 2\n",
    "    return a_list[:i_half], a_list[i_half:]\n",
    "\n",
    "\n",
    "fig, axs = plt.subplots(ncols=2)\n",
    "fig.suptitle(\"Un-filled markers\", fontsize=14)\n",
    "\n",
    "# Filter out filled markers and marker settings that do nothing.\n",
    "unfilled_markers = [\n",
    "    m\n",
    "    for m, func in Line2D.markers.items()\n",
    "    if func != \"nothing\" and m not in Line2D.filled_markers\n",
    "]\n",
    "\n",
    "for ax, markers in zip(axs, split_list(unfilled_markers)):\n",
    "    for y, marker in enumerate(markers):\n",
    "        ax.text(-0.5, y, repr(marker), **text_style)\n",
    "        ax.plot([y] * 3, marker=marker, **marker_style)\n",
    "    format_axes(ax)\n",
    "\n",
    "plt.show()\n",
    "\n",
    "fig, axs = plt.subplots(ncols=2)\n",
    "fig.suptitle(\"Filled markers\", fontsize=14)\n",
    "for ax, markers in zip(axs, split_list(Line2D.filled_markers)):\n",
    "    for y, marker in enumerate(markers):\n",
    "        ax.text(-0.5, y, repr(marker), **text_style)\n",
    "        ax.plot([y] * 3, marker=marker, **marker_style)\n",
    "    format_axes(ax)\n",
    "\n",
    "plt.show()"
   ]
  },
  {
   "cell_type": "markdown",
   "id": "42b0c66e",
   "metadata": {},
   "source": [
    "You can find more information on markers in the [**matplotlib** documentation](https://matplotlib.org/stable/gallery/lines_bars_and_markers/marker_reference.html)"
   ]
  },
  {
   "cell_type": "markdown",
   "id": "fc7ac561",
   "metadata": {},
   "source": [
    "## Facets\n",
    "\n",
    "One way to add additional variables to a plot is by mapping them to a dimension. Another way, which is particularly useful for categorical variables, is to split your plot into **facets**, subplots that each display one subset of the data.\n",
    "\n",
    "To facet your plot by a single variable, use `.facet(<VARIABLE>)`; this should be a discrete variable."
   ]
  },
  {
   "cell_type": "code",
   "execution_count": null,
   "id": "e1fc6ec1",
   "metadata": {},
   "outputs": [],
   "source": [
    "(\n",
    "    so.Plot(\n",
    "        mpg,\n",
    "        \"displ\",\n",
    "        \"hwy\",\n",
    "    )\n",
    "    .facet(\"cyl\")\n",
    "    .add(so.Dot())\n",
    ")"
   ]
  },
  {
   "cell_type": "markdown",
   "id": "ed1d597e",
   "metadata": {},
   "source": [
    "## Geometric objects\n",
    "\n",
    "How are these two plots similar?"
   ]
  },
  {
   "cell_type": "code",
   "execution_count": null,
   "id": "c8fa9864",
   "metadata": {},
   "outputs": [],
   "source": [
    "so.Plot(mpg, x=\"displ\", y=\"hwy\").add(so.Dot())"
   ]
  },
  {
   "cell_type": "code",
   "execution_count": null,
   "id": "693f73ea",
   "metadata": {},
   "outputs": [],
   "source": [
    "so.Plot(mpg, x=\"displ\", y=\"hwy\").add(so.Line(), so.Agg())"
   ]
  },
  {
   "cell_type": "markdown",
   "id": "c966f9e0",
   "metadata": {},
   "source": [
    "Both plots contain the same x variable, the same y variable, and both show the same data (to some extent). But the plots are not identical. Each plot uses a different visual object to represent the data. In **seaborn** language, these are represented by different *marks*: one is a scatter and the other a (mean) line (which introduces an aggregation).\n",
    "\n",
    "A mark is a geometrical object that shows where data occur in x, y, and any other dimension-space you care to use. For example, the plot below is a line plot but we've added a discrete dimension of colour so that—instead of a single aggregate line—we get one for each distinct value of `\"drv\"`. One line describes all of the points that have a `4` value, one line describes all of the points that have an `f` value, and one line describes all of the points that have an `r` value. Here, `4` stands for four-wheel drive, `f` for front-wheel drive, and `r` for rear-wheel drive."
   ]
  },
  {
   "cell_type": "code",
   "execution_count": null,
   "id": "3067686e",
   "metadata": {},
   "outputs": [],
   "source": [
    "so.Plot(mpg, x=\"displ\", y=\"hwy\", color=\"drv\").add(so.Line(), so.Agg())"
   ]
  },
  {
   "cell_type": "markdown",
   "id": "84a07969",
   "metadata": {},
   "source": [
    "You can achieve the same effect without distinguishing by colour too using `group` keyword. The `group` keyword uses a categorical variable to draw multiple objects; **seaborn** will draw a separate object for each unique value of the grouping variable.\n"
   ]
  },
  {
   "cell_type": "code",
   "execution_count": null,
   "id": "af6a8a64",
   "metadata": {},
   "outputs": [],
   "source": [
    "so.Plot(mpg, x=\"displ\", y=\"hwy\").add(so.Line(), so.Agg(), group=\"drv\")"
   ]
  },
  {
   "cell_type": "markdown",
   "id": "4aadf721",
   "metadata": {},
   "source": [
    "**seaborn** will allow you to add multiple layers to the base plot. In the below, we show both the points (using `.add(so.Dot())`) and an aggregate line per value of `\"drv\"`. Because we passed colour into `.Plot` both of these layers are distinguished by different colours."
   ]
  },
  {
   "cell_type": "code",
   "execution_count": null,
   "id": "571fedc3",
   "metadata": {},
   "outputs": [],
   "source": [
    "so.Plot(mpg, x=\"displ\", y=\"hwy\", color=\"drv\").add(so.Line(), so.Agg()).add(so.Dot())"
   ]
  },
  {
   "cell_type": "markdown",
   "id": "f6caa33b",
   "metadata": {},
   "source": [
    "If you map variables to the dimensions in `.Plot`, **seaborn** will use them for all subsequent layers. But if you specify a different approach for a specific layer, you will get info just for that:"
   ]
  },
  {
   "cell_type": "code",
   "execution_count": null,
   "id": "e1c59f65",
   "metadata": {},
   "outputs": [],
   "source": [
    "so.Plot(mpg, x=\"displ\", y=\"hwy\").add(so.Line(), so.Agg()).add(so.Dot(), color=\"class\")"
   ]
  },
  {
   "cell_type": "markdown",
   "id": "68e8a713",
   "metadata": {},
   "source": [
    "Each layer can have its own cut of the data too. Here, our line displays just a subset of the `mpg` dataset, the subcompact cars. We get this by explicitly adding a `data=` keyword argument to the same `.add` command as a line. The scatter plot has all points, the line just those for subcompact cars as specified by the filter we applied to the **pandas** data frame (try running `mpg.loc[mpg[\"class\"] == \"subcompact\"]` to see the data that make up the line)."
   ]
  },
  {
   "cell_type": "code",
   "execution_count": null,
   "id": "8606b4fb",
   "metadata": {},
   "outputs": [],
   "source": [
    "(\n",
    "    so.Plot(mpg, x=\"displ\", y=\"hwy\")\n",
    "    .add(so.Dot())\n",
    "    .add(so.Line(color=\"blue\"), so.Agg(), data=mpg.loc[mpg[\"class\"] == \"subcompact\"])\n",
    ")"
   ]
  },
  {
   "cell_type": "markdown",
   "id": "a3e3b57a",
   "metadata": {},
   "source": [
    "## Statistical Transformations\n",
    "\n",
    "We've already seen `so.Agg()` for aggregating multiple points into a single, mean line. Now let's take a look at another statistical transform: the bar chart. We'll use the diamonds dataset:"
   ]
  },
  {
   "cell_type": "code",
   "execution_count": null,
   "id": "e0e025d8",
   "metadata": {},
   "outputs": [],
   "source": [
    "import seaborn as sns\n",
    "\n",
    "diamonds = sns.load_dataset(\"diamonds\")\n",
    "diamonds.head()"
   ]
  },
  {
   "cell_type": "markdown",
   "id": "947113bd",
   "metadata": {},
   "source": [
    "Let's now create a bar chart of counts, aka a histogram, of the numbers of diamonds of different cuts. This only requires one dimension, `\"cut\"`, and then an instruction to use `so.Hist()` alongside `so.Bar()` in the (single) layer on top of the plot."
   ]
  },
  {
   "cell_type": "code",
   "execution_count": null,
   "id": "6d063023",
   "metadata": {},
   "outputs": [],
   "source": [
    "(so.Plot(diamonds, \"cut\").add(so.Bar(), so.Hist()))"
   ]
  },
  {
   "cell_type": "markdown",
   "id": "0d91f0f7",
   "metadata": {},
   "source": [
    "On the x-axis, the chart displays cut, a variable from diamonds. On the y-axis, it displays count, but count is not a variable in diamonds! Where does count come from? Many graphs, like scatterplots, plot the raw values of your dataset. Other graphs, like bar charts, calculate new values to plot:\n",
    "\n",
    "- bar charts, histograms, and frequency polygons bin your data and then plot bin counts, the number of points that fall in each bin\n",
    "\n",
    "- aggregations fit a mean line to your data \n",
    "\n",
    "- boxplots compute a summary of the distribution and display it as a box\n",
    "\n",
    "The algorithm used to calculate new values for a graph is called a Stat, short for statistical transformation."
   ]
  },
  {
   "cell_type": "markdown",
   "id": "bdf9ec82",
   "metadata": {},
   "source": [
    "## Adding More Information to Plots\n",
    "\n",
    "\n",
    "There’s one more piece of magic associated with bar charts. You can colour a bar chart using the `color=` keyword argument within the `.add` layer"
   ]
  },
  {
   "cell_type": "code",
   "execution_count": null,
   "id": "04a0fb17",
   "metadata": {},
   "outputs": [],
   "source": [
    "(so.Plot(diamonds, \"cut\").add(so.Bar(), so.Hist(), color=\"cut\"))"
   ]
  },
  {
   "cell_type": "markdown",
   "id": "2953116b",
   "metadata": {},
   "source": [
    "But you can also choose another variable and thereby add extra info to your chart, for example here by adding information on clarity:"
   ]
  },
  {
   "cell_type": "code",
   "execution_count": null,
   "id": "f1bdfcbb",
   "metadata": {},
   "outputs": [],
   "source": [
    "(so.Plot(diamonds, \"cut\").add(so.Bar(), so.Hist(), color=\"clarity\"))"
   ]
  },
  {
   "cell_type": "markdown",
   "id": "d4abe5f1",
   "metadata": {},
   "source": [
    "### Overplotting\n",
    "\n",
    "**Seaborn** functions have parameters that allow adjustments for overplotting, ie putting multiple dimensions next to each other on the same chart. These include `dodge` in several categorical functions, `jitter` in several functions based on scatterplots, and the `multiple=` parameter in distribution functions. These adjustments are abstracted away from the particular visual representation into the concept of a 'move':"
   ]
  },
  {
   "cell_type": "code",
   "execution_count": null,
   "id": "912c8045",
   "metadata": {},
   "outputs": [],
   "source": [
    "(so.Plot(diamonds, \"cut\", color=\"clarity\").add(so.Bar(), so.Hist(), so.Dodge()))"
   ]
  },
  {
   "cell_type": "markdown",
   "id": "e68dc4e1",
   "metadata": {},
   "source": [
    "This can also accept parameters to separate out the information in a particular way"
   ]
  },
  {
   "cell_type": "code",
   "execution_count": null,
   "id": "999346aa",
   "metadata": {},
   "outputs": [],
   "source": [
    "(\n",
    "    so.Plot(diamonds, \"cut\", color=\"clarity\").add(\n",
    "        so.Bar(), so.Hist(), so.Dodge(empty=\"fill\", gap=0.5)\n",
    "    )\n",
    ")"
   ]
  },
  {
   "cell_type": "markdown",
   "id": "63edd20b",
   "metadata": {},
   "source": [
    "There's another type of adjustment that's not useful for bar charts, but can be very useful for scatterplots. Recall our first scatterplot. Did you notice that the plot displays only 126 points, even though there are 234 observations in the dataset? And that some points appear darker than others?"
   ]
  },
  {
   "cell_type": "code",
   "execution_count": null,
   "id": "1d06805f",
   "metadata": {},
   "outputs": [],
   "source": [
    "so.Plot(mpg, x=\"displ\", y=\"hwy\").add(so.Dot())"
   ]
  },
  {
   "cell_type": "markdown",
   "id": "b519751a",
   "metadata": {},
   "source": [
    "\n",
    "The underlying values of `hwy` and `displ` are rounded so the points appear on a grid and many points overlap each other. This problem is known as **overplotting**. This arrangement makes it difficult to see the distribution of the data. Because scatterplot points are, by default, plotted with some transparency you can get a sense of which parts of the grid have multiple points on them, but you may wish to use a different technique.\n",
    "\n",
    "Another way to show the overlap is to use the \"jitter\" option. Passing the argument `so.Jitter()` adds a small amount of random noise to each point. Depending on the numerical option you use, this spreads the points out because no two points are likely to receive the same amount of random noise.\n"
   ]
  },
  {
   "cell_type": "code",
   "execution_count": null,
   "id": "d9f943f2",
   "metadata": {},
   "outputs": [],
   "source": [
    "so.Plot(mpg, x=\"displ\", y=\"hwy\").add(so.Dot(), so.Jitter(1))"
   ]
  },
  {
   "cell_type": "markdown",
   "id": "7db1dfec",
   "metadata": {},
   "source": [
    "Adding randomness seems like a strange way to improve your plot, but while it makes your graph less accurate at small scales, it makes your graph *more* revealing at large scales."
   ]
  },
  {
   "cell_type": "markdown",
   "id": "cd804cea",
   "metadata": {},
   "source": [
    "## Co-ordinates and Scales\n",
    "\n",
    "### Co-ordinates\n",
    "\n",
    "The co-ordinates of a plot are the system that determines which data is attached to which axis of, typically, the horizontal, or x-axis, and the vertical, or y-axis. This is set by arguments to the call to `so.Plot`, so to reverse the plot from before we simply reverse the arguments:"
   ]
  },
  {
   "cell_type": "code",
   "execution_count": null,
   "id": "5c4be777",
   "metadata": {},
   "outputs": [],
   "source": [
    "so.Plot(mpg, \"hwy\", \"displ\").add(so.Dot())"
   ]
  },
  {
   "cell_type": "markdown",
   "id": "cd10e1bf",
   "metadata": {},
   "source": [
    "You can also do this explicitly by setting `x=\"hwy\"` and `y=\"displ\"`, and there's a lot to be said for being explicit (when you read your code back later, it's very helpful indeed)."
   ]
  },
  {
   "cell_type": "markdown",
   "id": "77f45751",
   "metadata": {},
   "source": [
    "### Scales\n",
    "\n",
    "Let's say you create a chart but the data vary on a scale that isn't shown well by the default axes. If you find yourself in this situation, you may wish to change the *scale* of one or both of the axes. This is controlled by the `Scale` property in **seaborn**.\n",
    "\n",
    "The notion of scaling will probably not be unfamiliar; it means that a mathematical transformation, such as log, is made to the coordinate (or axes) variables.\n",
    "\n",
    "We'll show this using the `planets` dataset, which has lots of variation in it!"
   ]
  },
  {
   "cell_type": "code",
   "execution_count": null,
   "id": "20d36460",
   "metadata": {},
   "outputs": [],
   "source": [
    "planets = sns.load_dataset(\"planets\").query(\"distance < 1000\")\n",
    "planets.head()"
   ]
  },
  {
   "cell_type": "code",
   "execution_count": null,
   "id": "fbed3933",
   "metadata": {},
   "outputs": [],
   "source": [
    "(so.Plot(planets, x=\"mass\", y=\"distance\").scale(x=\"log\", y=\"log\").add(so.Dot()))"
   ]
  },
  {
   "cell_type": "markdown",
   "id": "994e46ce",
   "metadata": {},
   "source": [
    "Here we used a log scale for both the x- and y-axes because both mass and distance vary over many orders of magnitude.\n",
    "\n",
    "But the scale property can apply to other dimensions that we are visualising in our plots too; here's an example where we're using colour (in the below, plasma is the name of a built-in continuous colourmap, a way of representing a continuous number line with colour gradients):"
   ]
  },
  {
   "cell_type": "code",
   "execution_count": null,
   "id": "8bbad703",
   "metadata": {},
   "outputs": [],
   "source": [
    "(\n",
    "    so.Plot(planets, x=\"mass\", y=\"distance\", color=\"orbital_period\")\n",
    "    .scale(x=\"log\", y=\"log\", color=so.Continuous(\"plasma\", trans=\"log\"))\n",
    "    .add(so.Dot())\n",
    ")"
   ]
  },
  {
   "cell_type": "markdown",
   "id": "a7589df3",
   "metadata": {},
   "source": [
    "Sometimes you *don't* want to apply the transform to everything, and that's okay too. Here's an example where the log scale *doesn't* apply to the mass variable (even though it's shown)."
   ]
  },
  {
   "cell_type": "code",
   "execution_count": null,
   "id": "d3685f89",
   "metadata": {},
   "outputs": [],
   "source": [
    "(\n",
    "    so.Plot(planets, x=\"distance\", y=\"orbital_period\", pointsize=\"mass\")\n",
    "    .scale(x=\"log\", y=\"log\", pointsize=None)\n",
    "    .add(so.Dot())\n",
    ")"
   ]
  },
  {
   "cell_type": "markdown",
   "id": "a5a522b3",
   "metadata": {},
   "source": [
    "## Summing Up\n",
    "\n",
    "In the above, you've got to grips with some of the basics of visualisation with **seaborn**. You can find much more information in the documentation for that project. But let's recap the grammar of a **seaborn** plot. The typical call will look something like this:\n",
    "\n",
    "```python\n",
    "(\n",
    "    so.Plot(<DATA FRAME>, x=<X STRING>, y=<Y STRING>, <OTHER KEYWORD ARGUMENTS EG POINTSIZE>)\n",
    "    .scale(x=<SCALE STRING>, <OTHER DIMENSION KEYWORD ARGUMENTS AND SCALE STRINGS>)\n",
    "    .add(<TYPE OF CHART EG SCATTER>, <KEYWORD ARGUMENTS FOR THIS LAYER EG MOVE>)\n",
    "    .add(<FURTHER LAYERS>)\n",
    ")\n",
    "```"
   ]
  }
 ],
 "metadata": {
  "interpreter": {
   "hash": "9d7534ecd9fbc7d385378f8400cf4d6cb9c6175408a574f1c99c5269f08771cc"
  },
  "jupytext": {
   "cell_metadata_filter": "-all",
   "encoding": "# -*- coding: utf-8 -*-",
   "formats": "md:myst",
   "main_language": "python"
  },
  "kernelspec": {
   "display_name": "Python 3 (ipykernel)",
   "language": "python",
   "name": "python3"
  },
  "language_info": {
   "codemirror_mode": {
    "name": "ipython",
    "version": 3
   },
   "file_extension": ".py",
   "mimetype": "text/x-python",
   "name": "python",
   "nbconvert_exporter": "python",
   "pygments_lexer": "ipython3",
   "version": "3.9.12"
  },
  "toc-showtags": true
 },
 "nbformat": 4,
 "nbformat_minor": 5
}
