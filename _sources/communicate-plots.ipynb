{
 "cells": [
  {
   "cell_type": "markdown",
   "id": "95f0a171",
   "metadata": {},
   "source": [
    "(communicate-plots)=\n",
    "# Graphics for Communication\n",
    "\n",
    "## Introduction\n",
    "\n",
    "In this chapter, you'll learn about using visualisation to communicate.\n",
    "\n",
    "There are a plethora of options (and packages) for data visualisation using code. First, though a note about the different philosophies of data visualisation. There are broadly two categories of approach to using code to create data visualisations: imperative, where you build what you want, and declarative, where you say what you want. Choosing which to use involves a trade-off: imperative libraries offer you flexibility but at the cost of some verbosity; declarative libraries offer you a quick way to plot your data, but only if it’s in the right format to begin with, and customisation may be more difficult.\n",
    "\n",
    "There are also different purposes of data visualisation. It can be useful to bear in mind the three broad categories of visualisation that are out there:\n",
    "\n",
    "- exploratory\n",
    "\n",
    "- scientific\n",
    "\n",
    "- narrative\n",
    "\n",
    "Python has packages that cover all three of these.\n",
    "\n",
    "In {ref}`exploratory-data-analysis`, you learned how to use plots as tools for *exploration*.\n",
    "When you make exploratory plots, you know---even before looking---which variables the plot will display.\n",
    "You made each plot for a purpose, could quickly look at it, and then move on to the next plot.\n",
    "In the course of most analyses, you'll produce tens or hundreds of plots, most of which are immediately thrown away. Exploratory visualisation is usually quick and dirty, and flexible too.\n",
    "\n",
    "The second kind, *scientific visualisation*, is the prime cut of your exploratory visualisation. It’s the kind of plot you might include in a more technical paper, the picture that says a thousand words. The first image of a black hole {cite}`akiyama2019first` is a prime example of this. You can get away with having a high density of information in a scientific plot because it's designed for specialists. Ensuring that important values can be accurately read from the plot is especially important in these kinds of charts. But they can also be the kind of plot that presents the killer results in a study; they might not be exciting to people who don’t look at charts for a living, but they might be exciting and, just as importantly, understandable by your peers.\n",
    "\n",
    "The third and final kind is *narrative visualisation*, and it is the focus of this chapter—though we'll only scratch the surface. This is the one that requires the most thought in the step where you go from the first view to the end product because your audience will likely not share your background knowledge and will not be deeply invested in the data. It’s a visualisation that doesn’t just show a picture, but gives an insight. These are the kind of visualisations that you might see in the Financial Times, The Economist, or on the BBC News website. They come with aids that help the viewer focus on the aspects that the creator wanted them to (you can think of these aids or focuses as doing for visualisation what bold font does for text). They’re well worth using in your work, especially if you’re trying to communicate a particular narrative, and especially if the people you’re communicating with don’t have deep knowledge of the topic. You might use them in a paper that you hope will have a wide readership, in a blog post summarising your work, or in a report intended for a policymaker."
   ]
  },
  {
   "cell_type": "code",
   "execution_count": null,
   "id": "51a55374",
   "metadata": {
    "tags": [
     "remove-cell"
    ]
   },
   "outputs": [],
   "source": [
    "# remove cell\n",
    "import matplotlib_inline.backend_inline\n",
    "import matplotlib.pyplot as plt\n",
    "\n",
    "# Plot settings\n",
    "plt.style.use(\"https://github.com/aeturrell/python4DS/raw/main/plot_style.txt\")\n",
    "matplotlib_inline.backend_inline.set_matplotlib_formats(\"svg\")"
   ]
  },
  {
   "cell_type": "markdown",
   "id": "17575f3a",
   "metadata": {},
   "source": [
    "### Prerequisites\n",
    "\n",
    "As well as **pandas**, you will need to install the declarative visualisation package **seaborn** for this chapter. This chapter uses the next generation version of **seaborn**, which can be installed by running the following on the command line (aka in the terminal): \n",
    "\n",
    "```bash\n",
    "pip install --pre seaborn\n",
    "```\n",
    "\n",
    "Although it will get installed when you install **seaborn**, we'll also be using the powerful imperative visualisation library that **seaborn** builds on, **matplotlib**.\n",
    "\n",
    "You'll need to import the **seaborn** and **pandas** libraries into your session using"
   ]
  },
  {
   "cell_type": "code",
   "execution_count": null,
   "id": "ae4a818a",
   "metadata": {},
   "outputs": [],
   "source": [
    "import seaborn.objects as so\n",
    "import pandas as pd"
   ]
  },
  {
   "cell_type": "markdown",
   "id": "a0dc9c10",
   "metadata": {},
   "source": [
    "## Labels and Titles\n",
    "\n",
    "The easiest place to start when turning an exploratory graphic into an expository graphic is with good labels. This example plot axis labels:"
   ]
  },
  {
   "cell_type": "code",
   "execution_count": null,
   "id": "c36b4cd5",
   "metadata": {},
   "outputs": [],
   "source": [
    "# load the data\n",
    "mpg = pd.read_csv(\n",
    "    \"https://vincentarelbundock.github.io/Rdatasets/csv/ggplot2/mpg.csv\", index_col=0\n",
    ")"
   ]
  },
  {
   "cell_type": "markdown",
   "id": "1813ab08",
   "metadata": {},
   "source": [
    "Now let's do the plot with a title by passing the `title=` keyword argument into the `label` property."
   ]
  },
  {
   "cell_type": "code",
   "execution_count": null,
   "id": "40b9bfcb",
   "metadata": {},
   "outputs": [],
   "source": [
    "(\n",
    "    so.Plot(mpg, x=\"displ\", y=\"hwy\")\n",
    "    .add(so.Dot())\n",
    "    .label(title=\"Fuel efficiency generally decreases with engine size\")\n",
    ")"
   ]
  },
  {
   "cell_type": "markdown",
   "id": "ff5ed0d4",
   "metadata": {},
   "source": [
    "The purpose of a plot title is to summarise the main finding. Avoid titles that just describe what the plot is, e.g. \"A scatterplot of engine displacement vs. fuel economy\".\n",
    "\n",
    "If you need to add more text, there are two other useful labels that you can use:\n",
    "\n",
    "-   `subtitle` adds additional detail in a smaller font beneath the title.\n",
    "\n",
    "-   `caption` adds text at the bottom right of the plot, often used to describe the source of the data.\n"
   ]
  },
  {
   "cell_type": "markdown",
   "id": "061f528b",
   "metadata": {},
   "source": [
    "You can use `.label` to replace the axis and legend titles. It's usually a good idea to replace short variable names with more detailed descriptions, and to include the units."
   ]
  },
  {
   "cell_type": "code",
   "execution_count": null,
   "id": "b748ba52",
   "metadata": {},
   "outputs": [],
   "source": [
    "(\n",
    "    so.Plot(mpg, x=\"displ\", y=\"hwy\")\n",
    "    .add(so.Dot())\n",
    "    .label(x=\"Engine displacement (L)\", y=\"Highway fuel economy (mpg)\")\n",
    ")"
   ]
  },
  {
   "cell_type": "markdown",
   "id": "2e28877a",
   "metadata": {},
   "source": [
    "It's possible to use mathematical equations and functions instead of text strings:"
   ]
  },
  {
   "cell_type": "code",
   "execution_count": null,
   "id": "ffc13eab",
   "metadata": {},
   "outputs": [],
   "source": [
    "(so.Plot(mpg, x=\"displ\", y=\"hwy\").add(so.Dot()).label(y=str.capitalize, x=r\"$x^{y-z}$\"))"
   ]
  },
  {
   "cell_type": "markdown",
   "id": "289418c9",
   "metadata": {},
   "source": [
    "## Annotations\n",
    "\n",
    "[TODO]"
   ]
  },
  {
   "cell_type": "markdown",
   "id": "1e245691",
   "metadata": {},
   "source": [
    "## Scales\n",
    "\n",
    "The third way you can make your plot better for communication is to adjust the scales.\n",
    "Scales control the mapping from data values to things that you can perceive.\n",
    "Normally, **seaborn** automatically adds scales for you.\n",
    "For example, when you type:"
   ]
  },
  {
   "cell_type": "code",
   "execution_count": null,
   "id": "012d8c4d",
   "metadata": {},
   "outputs": [],
   "source": [
    "(so.Plot(mpg, x=\"displ\", y=\"hwy\", color=\"class\").add(so.Dot()))"
   ]
  },
  {
   "cell_type": "markdown",
   "id": "fae05382",
   "metadata": {},
   "source": [
    "**seaborn** automatically adds default scales behind the scenes:"
   ]
  },
  {
   "cell_type": "code",
   "execution_count": null,
   "id": "f1b10368",
   "metadata": {},
   "outputs": [],
   "source": [
    "(\n",
    "    so.Plot(mpg, x=\"displ\", y=\"hwy\", color=\"class\")\n",
    "    .add(so.Dot())\n",
    "    .scale(\n",
    "        x=so.Continuous(),\n",
    "        y=so.Continuous(),\n",
    "        color=so.Nominal(),\n",
    "    )\n",
    ")"
   ]
  },
  {
   "cell_type": "markdown",
   "id": "03b4d70c",
   "metadata": {},
   "source": [
    "Note the naming scheme for scales: `.scale` followed by the name of the dimension, then `=so.`, then the name of the scale.\n",
    "The default scales are named according to the type of variable they align with: continuous, nominal, and so on.\n",
    "\n",
    "The default scales have been carefully chosen to do a good job for a wide range of inputs.\n",
    "Nevertheless, you might want to override the defaults for two reasons:\n",
    "\n",
    "-   You might want to tweak some of the parameters of the default scale.\n",
    "    This allows you to do things like change the breaks on the axes, or the key labels on the legend.\n",
    "\n",
    "-   You might want to replace the scale altogether, and use a completely different algorithm.\n",
    "    Often you can do better than the default because you know more about the data.\n",
    "\n",
    "```{admonition} Exercise\n",
    "Try a plot with a scale setting of `x=\"log\"`.\n",
    "```"
   ]
  },
  {
   "cell_type": "markdown",
   "id": "6845649b",
   "metadata": {},
   "source": [
    "### Axis Ticks\n",
    "\n",
    "You can specify axis ticks directly using the `tick` property on the `Scale` parameter:"
   ]
  },
  {
   "cell_type": "code",
   "execution_count": null,
   "id": "dcd15c76",
   "metadata": {},
   "outputs": [],
   "source": [
    "(\n",
    "    so.Plot(mpg, x=\"displ\", y=\"hwy\", color=\"class\")\n",
    "    .add(so.Dot())\n",
    "    .scale(\n",
    "        x=so.Continuous(),\n",
    "        y=so.Continuous().tick(at=[0, 10, 20, 30, 40]),\n",
    "        color=so.Nominal(),\n",
    "    )\n",
    ")"
   ]
  },
  {
   "cell_type": "markdown",
   "id": "f56d0216",
   "metadata": {},
   "source": [
    "### Legend Keys"
   ]
  },
  {
   "cell_type": "markdown",
   "id": "d3631634",
   "metadata": {},
   "source": [
    "### Legend Layout\n",
    "\n",
    "[TODO]"
   ]
  },
  {
   "cell_type": "markdown",
   "id": "57d59667",
   "metadata": {},
   "source": [
    "### Limits, aka 'zooming'\n",
    "\n",
    "There are two ways to control the plot limits:\n",
    "\n",
    "1.  Adjusting what data are plotted\n",
    "2.  Setting the limits in each scale\n",
    "\n",
    "Here is the same plot done according to 1 and 2 respectively."
   ]
  },
  {
   "cell_type": "code",
   "execution_count": null,
   "id": "013471ab",
   "metadata": {},
   "outputs": [],
   "source": [
    "(\n",
    "    so.Plot(mpg, x=\"displ\", y=\"hwy\", color=\"class\")\n",
    "    .add(so.Dot())\n",
    "    .limit(x=(5, 7), y=(10, 30))\n",
    ")"
   ]
  },
  {
   "cell_type": "code",
   "execution_count": null,
   "id": "1734b4f4",
   "metadata": {},
   "outputs": [],
   "source": [
    "(\n",
    "    so.Plot(\n",
    "        mpg.query(\"displ >= 5 & displ <= 7 & hwy >= 10 & hwy <= 30\"),\n",
    "        x=\"displ\",\n",
    "        y=\"hwy\",\n",
    "        color=\"class\",\n",
    "    ).add(so.Dot())\n",
    ")"
   ]
  },
  {
   "cell_type": "markdown",
   "id": "89ad530b",
   "metadata": {},
   "source": [
    "While they convey the same information, the former looks better."
   ]
  },
  {
   "cell_type": "markdown",
   "id": "eeaa7fde",
   "metadata": {},
   "source": [
    "## Themes\n",
    "\n",
    "Seaborn comes with several built-in themes that you can switch between by using"
   ]
  },
  {
   "cell_type": "code",
   "execution_count": null,
   "id": "8749bccd",
   "metadata": {},
   "outputs": [],
   "source": [
    "import seaborn as sns\n",
    "\n",
    "sns.set_theme(style=\"darkgrid\", palette=\"dark\")\n",
    "\n",
    "(so.Plot(mpg, x=\"displ\", y=\"hwy\", color=\"class\").add(so.Dot()))"
   ]
  },
  {
   "cell_type": "markdown",
   "id": "b09cf2b2",
   "metadata": {},
   "source": [
    "Note that you can also create your own themes using **matplotlib**, the library that sits under **seaborn** (this book uses a custom theme).\n"
   ]
  },
  {
   "cell_type": "markdown",
   "id": "310e4b73",
   "metadata": {},
   "source": [
    "## Saving Plots\n",
    "\n",
    "There are lots of output options to choose from to save your file to. Remember that, for graphics, *vector formats* are generally better than *raster formats*. In practice, this means saving plots in svg or pdf formats over jpg or png file formats. The svg format works in a lot of contexts (including Microsoft Word) and is a good default. To choose between formats, just supply the file extension and the file type will change automatically, eg \"chart.svg\" for svg or \"chart.png\" for png (thought note that raster formats often have extra options, like how many dots per inch to use)."
   ]
  },
  {
   "cell_type": "code",
   "execution_count": null,
   "id": "d1492b5f",
   "metadata": {},
   "outputs": [],
   "source": [
    "(so.Plot(mpg, x=\"displ\", y=\"hwy\", color=\"class\").add(so.Dot()).save(\"output_chart.svg\"))"
   ]
  },
  {
   "cell_type": "markdown",
   "id": "6ca1b42b",
   "metadata": {},
   "source": [
    "To double check this works, let's use the terminal. We'll try the command `ls`, which lists everything in directory, and `grep *.svg` to pull out any files that end in `.svg` from what is returned by `ls`. These are strung together as commands by a `|`. (Note that the leading exclamation mark below just tells the software that builds this book to use the terminal.)"
   ]
  },
  {
   "cell_type": "code",
   "execution_count": null,
   "id": "8ffc45b8",
   "metadata": {},
   "outputs": [],
   "source": [
    "!ls | grep *.svg"
   ]
  },
  {
   "cell_type": "markdown",
   "id": "549e2576",
   "metadata": {},
   "source": [
    "Great! It looks like our file saved successfully."
   ]
  },
  {
   "cell_type": "code",
   "execution_count": null,
   "id": "e7cf90a9",
   "metadata": {
    "tags": [
     "remove-cell"
    ]
   },
   "outputs": [],
   "source": [
    "# remove-cell\n",
    "import os\n",
    "\n",
    "os.remove(\"output_chart.svg\")"
   ]
  }
 ],
 "metadata": {
  "interpreter": {
   "hash": "9d7534ecd9fbc7d385378f8400cf4d6cb9c6175408a574f1c99c5269f08771cc"
  },
  "jupytext": {
   "cell_metadata_filter": "-all",
   "encoding": "# -*- coding: utf-8 -*-",
   "formats": "md:myst",
   "main_language": "python"
  },
  "kernelspec": {
   "display_name": "Python 3 (ipykernel)",
   "language": "python",
   "name": "python3"
  },
  "language_info": {
   "codemirror_mode": {
    "name": "ipython",
    "version": 3
   },
   "file_extension": ".py",
   "mimetype": "text/x-python",
   "name": "python",
   "nbconvert_exporter": "python",
   "pygments_lexer": "ipython3",
   "version": "3.9.12"
  },
  "toc-showtags": true
 },
 "nbformat": 4,
 "nbformat_minor": 5
}
